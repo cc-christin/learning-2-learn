{
 "cells": [
  {
   "cell_type": "markdown",
   "id": "417d4197",
   "metadata": {},
   "source": [
    "## Intro to SQL"
   ]
  },
  {
   "cell_type": "markdown",
   "id": "4a9bcaec",
   "metadata": {},
   "source": [
    "### Selecting Columns"
   ]
  },
  {
   "cell_type": "markdown",
   "id": "0653f0a3",
   "metadata": {},
   "source": [
    "####  Onboarding | Tables\n"
   ]
  },
  {
   "cell_type": "code",
   "execution_count": 1,
   "id": "c17863a8",
   "metadata": {},
   "outputs": [],
   "source": [
    "# 5000 films\n",
    "# films: id|title|release_year|country|duration|language|certification|gross|budget\n",
    "# people: id|name|birthdate|deathdate\n",
    "# reviews: id|film_id|num_user|num_critic|imdb_score|num_votes|facebook_likes\n",
    "# roles: id|film_id|person_id|role\n",
    "\n",
    "# who is the first person listed in the people table?\n",
    "# 50 Cent"
   ]
  },
  {
   "cell_type": "markdown",
   "id": "2197f650",
   "metadata": {},
   "source": [
    "#### Onboarding | Query Result\n"
   ]
  },
  {
   "cell_type": "code",
   "execution_count": 2,
   "id": "2335fb94",
   "metadata": {},
   "outputs": [],
   "source": [
    "# SELECT name FROM people;\n",
    "# Who is the second person listed in the query result?\n",
    "# A. Michael Baldwin"
   ]
  },
  {
   "cell_type": "markdown",
   "id": "d2b4ff75",
   "metadata": {},
   "source": [
    "#### Onboarding | Errors\n"
   ]
  },
  {
   "cell_type": "code",
   "execution_count": 3,
   "id": "6e8be307",
   "metadata": {},
   "outputs": [
    {
     "data": {
      "text/plain": [
       "\"\\nSELECT 'DataCamp <3 SQL'\\nAS result;\\n\""
      ]
     },
     "execution_count": 3,
     "metadata": {},
     "output_type": "execute_result"
    }
   ],
   "source": [
    "# error editing\n",
    "# Two types of errors from code:\n",
    "\"\"\"\n",
    "-- Try running me!\n",
    "'DataCamp <3 SQL'\n",
    "AS result;\n",
    "\n",
    "-- syntax error at or near \"'DataCamp <3 SQL'\" LINE 2: 'DataCamp <3 SQL' ^\n",
    "\"\"\"\n",
    "# fix error\n",
    "\"\"\"\n",
    "SELECT 'DataCamp <3 SQL'\n",
    "AS result;\n",
    "\"\"\""
   ]
  },
  {
   "cell_type": "markdown",
   "id": "cba71881",
   "metadata": {},
   "source": [
    "#### Onboarding | Multi-step Exercises"
   ]
  },
  {
   "cell_type": "code",
   "execution_count": 4,
   "id": "426b0f83",
   "metadata": {},
   "outputs": [
    {
     "data": {
      "text/plain": [
       "\"\\nSELECT 'SQL is cool'\\nAS result;\\n\""
      ]
     },
     "execution_count": 4,
     "metadata": {},
     "output_type": "execute_result"
    }
   ],
   "source": [
    "# 1/3\n",
    "# submint query \n",
    "\"\"\"\n",
    "SELECT 'SQL'\n",
    "AS result;\n",
    "\"\"\"\n",
    "# 2/3\n",
    "# change 'SQL' to 'SQL is'\n",
    "\"\"\"\n",
    "SELECT 'SQL is'\n",
    "AS result;\n",
    "\"\"\"\n",
    "# 3/3\n",
    "# change 'SQL is' to 'SQL is cool'\n",
    "\"\"\"\n",
    "SELECT 'SQL is cool'\n",
    "AS result;\n",
    "\"\"\""
   ]
  },
  {
   "cell_type": "markdown",
   "id": "097e8f6b",
   "metadata": {},
   "source": [
    "#### Beginning your SQL journey\n"
   ]
  },
  {
   "cell_type": "code",
   "execution_count": 5,
   "id": "73597d3b",
   "metadata": {},
   "outputs": [],
   "source": [
    "# SQL => Structured Query Language\n",
    "# language for interacting with data stored in a relational database\n",
    "# collection of tables\n",
    "# employees: id | name | age | nationality \n",
    "\n",
    "# rows -> records\n",
    "# columns -> fields\n",
    "\n",
    "# How many fields does the employees table above contain?\n",
    "# 4 \n",
    "# The table contains 4 coluns or fields\n"
   ]
  },
  {
   "cell_type": "markdown",
   "id": "41faae12",
   "metadata": {},
   "source": [
    "#### SELECTing single columns\n"
   ]
  },
  {
   "cell_type": "code",
   "execution_count": 6,
   "id": "2eafbfef",
   "metadata": {},
   "outputs": [
    {
     "data": {
      "text/plain": [
       "'\\nSELECT name\\nFROM people;\\n'"
      ]
     },
     "execution_count": 6,
     "metadata": {},
     "output_type": "execute_result"
    }
   ],
   "source": [
    "# focus of querying databases\n",
    "# A query is a request for data from a database table\n",
    "\n",
    "# select data from table\n",
    "# SELECT\n",
    "\n",
    "# query selects the name column from the people table:\n",
    "\"\"\"\n",
    "SELECT name\n",
    "FROM people;\n",
    "\"\"\"\n",
    "# keywords: SELECT | FROM\n",
    "# keywords should be uppercase to distinguish from other parts of the query\n",
    "# include semicolon (;) at the end of the query | tells Sql where the end of query is\n",
    "\n",
    "# 1/3\n",
    "# Select the title column from the films table.\n",
    "\n",
    "\"\"\"\n",
    "SELECT title\n",
    "FROM films;\n",
    "\"\"\"\n",
    "\n",
    "# 2/3\n",
    "# Select the release_year column from the films table.\n",
    "\"\"\"\n",
    "SELECT release_year\n",
    "FROM films;\n",
    "\"\"\"\n",
    "\n",
    "# 3/3\n",
    "# Select the name of each person in the people table.\n",
    "\"\"\"\n",
    "SELECT name\n",
    "FROM people;\n",
    "\"\"\""
   ]
  },
  {
   "cell_type": "markdown",
   "id": "9e508571",
   "metadata": {},
   "source": [
    "#### SELECTing multiple columns\n"
   ]
  },
  {
   "cell_type": "code",
   "execution_count": 7,
   "id": "6eecf071",
   "metadata": {},
   "outputs": [
    {
     "data": {
      "text/plain": [
       "'\\nSELECT *\\nFROM films;\\n'"
      ]
     },
     "execution_count": 7,
     "metadata": {},
     "output_type": "execute_result"
    }
   ],
   "source": [
    "# In the real world, you will often want to select multiple columns.\n",
    "# To select multiple columns from a table, simply separate the column names with commas!\n",
    "\n",
    "# query selects two columns, name and birthdate, from the people table:\n",
    "\"\"\"\n",
    "SELECT name, birthdate\n",
    "FROM people;\n",
    "\"\"\"\n",
    "# select all columns from a table.\n",
    "\"\"\"\n",
    "SELECT *\n",
    "FROM people;\n",
    "\"\"\"\n",
    "\n",
    "# If you only want to return a certain number of results, you can use the LIMIT keyword to limit the number of rows returned:\n",
    "\n",
    "\"\"\"\n",
    "SELECT *\n",
    "FROM people\n",
    "LIMIT 10;\n",
    "\"\"\"\n",
    "\n",
    "# films: id | title | release_year \\ country | duration | language | certification | fross | budget\n",
    "\n",
    "# 1/4\n",
    "# Get the title of every film from the films table.\n",
    "\"\"\"\n",
    "SELECT title\n",
    "FROM films;\n",
    "\"\"\"\n",
    "\n",
    "# 2/4\n",
    "# Get the title and release year for every film.\n",
    "\"\"\"\n",
    "SELECT title, release_year\n",
    "FROM films;\n",
    "\"\"\"\n",
    "\n",
    "# 3/4\n",
    "# Get the title, release year and country for every film.\n",
    "\"\"\"\n",
    "SELECT title, release_year, country\n",
    "FROM films;\n",
    "\"\"\"\n",
    "\n",
    "# 4/4\n",
    "# Get all columns from the films table.\n",
    "\"\"\"\n",
    "SELECT *\n",
    "FROM films;\n",
    "\"\"\"\n"
   ]
  },
  {
   "cell_type": "markdown",
   "id": "1c2aa86f",
   "metadata": {},
   "source": [
    "#### SELECT DISTINCT\n"
   ]
  },
  {
   "cell_type": "code",
   "execution_count": 8,
   "id": "989478c1",
   "metadata": {},
   "outputs": [
    {
     "data": {
      "text/plain": [
       "'\\nrole\\ndirector\\nactor\\n'"
      ]
     },
     "execution_count": 8,
     "metadata": {},
     "output_type": "execute_result"
    }
   ],
   "source": [
    "# results inculde duplicate values\n",
    "# DISTINCT allows for selection of unique values\n",
    "\n",
    "# useful if, for example, you're interested in knowing which languages are represented in the films table:\n",
    "\"\"\"\n",
    "SELECT DISTINCT language\n",
    "FROM films;\n",
    "\"\"\"\n",
    "\n",
    "# 1/3\n",
    "# Get all the unique countries represented in the films table.\n",
    "\"\"\"\n",
    "SELECT DISTINCT country \n",
    "FROM films; \n",
    "\"\"\"\n",
    "\n",
    "# 2/3\n",
    "# Get all the different film certifications from the films table.\n",
    "\"\"\"\n",
    "SELECT DISTINCT certification\n",
    "FROM films;\n",
    "\"\"\"\n",
    "\n",
    "# 3/3\n",
    "# Get the different types of film roles from the roles table.\n",
    "\"\"\"\n",
    "SELECT DISTINCT role\n",
    "FROM roles;\n",
    "\"\"\"\n",
    "# query result\n",
    "\"\"\"\n",
    "role\n",
    "director\n",
    "actor\n",
    "\"\"\""
   ]
  },
  {
   "cell_type": "markdown",
   "id": "dd6c2835",
   "metadata": {},
   "source": [
    "#### Learning to COUNT\n"
   ]
  },
  {
   "cell_type": "code",
   "execution_count": 9,
   "id": "f982c622",
   "metadata": {},
   "outputs": [
    {
     "data": {
      "text/plain": [
       "'\\nSELECT COUNT(*)\\nFROM reviews; \\n'"
      ]
     },
     "execution_count": 9,
     "metadata": {},
     "output_type": "execute_result"
    }
   ],
   "source": [
    "#  if you want to count the number of employees in your employees table, use COUNT() \n",
    "# COUNT() function returns the number of rows in one or more columns\n",
    "\n",
    "# rows -> records\n",
    "# columns -> fields\n",
    "\n",
    "# this code gives the number of rows in the people table:\n",
    "\"\"\"\n",
    "SELECT COUNT(*)\n",
    "FROM people;\n",
    "\"\"\"\n",
    "# 8397\n",
    "\n",
    "# How many records are contained in the reviews table?\n",
    "\"\"\"\n",
    "SELECT COUNT(*)\n",
    "FROM reviews; \n",
    "\"\"\"\n",
    "# 4968"
   ]
  },
  {
   "cell_type": "markdown",
   "id": "bfa01de9",
   "metadata": {},
   "source": [
    "#### Practice with COUNT\n"
   ]
  },
  {
   "cell_type": "code",
   "execution_count": 10,
   "id": "562b6285",
   "metadata": {},
   "outputs": [
    {
     "data": {
      "text/plain": [
       "'\\nSELECT COUNT(DISTINCT country)\\nFROM films; \\n'"
      ]
     },
     "execution_count": 10,
     "metadata": {},
     "output_type": "execute_result"
    }
   ],
   "source": [
    "# COUNT(*) tells you how many rows, records are in a table.\n",
    "# if you want to count the number of non-missing values in a particular column, you can call COUNT() on just that column.\n",
    "\n",
    "# count the number of birth dates present in the people table:\n",
    "\"\"\"\n",
    "SELECT COUNT(birthdate)\n",
    "FROM people; \n",
    "\"\"\"\n",
    "# 6152\n",
    "\n",
    "# also common to combine COUNT() with DISTINCT to count the number of distinct values in a column.\n",
    "# this query counts the number of distinct birth dates contained in the people table:\n",
    "\"\"\"\n",
    "SELECT COUNT(DISTINCT birthdate)\n",
    "FROM people; \n",
    "\"\"\"\n",
    "# 5398\n",
    "\n",
    "# 1/5\n",
    "# Count the number of rows in the people table.\n",
    "\"\"\"\n",
    "SELECT COUNT(*)\n",
    "FROM people; \n",
    "\"\"\"\n",
    "# 8397\n",
    "\n",
    "# 2/5\n",
    "# Count the number of (non-missing) birth dates in the people table.\n",
    "\"\"\"\n",
    "SELECT COUNT(birthdate)\n",
    "FROM people;\n",
    "\"\"\"\n",
    "# 6152\n",
    "\n",
    "# 3/5\n",
    "# Count the number of unique birth dates in the people table.\n",
    "\"\"\"\n",
    "SELECT COUNT(DISTINCT birthdate)\n",
    "FROM people;\n",
    "\"\"\"\n",
    "# 5398\n",
    "\n",
    "# 4/5\n",
    "# Count the number of unique languages in the films table.\n",
    "\"\"\"\n",
    "SELECT COUNT(DISTINCT language)\n",
    "FROM films;\n",
    "\"\"\"\n",
    "# 41\n",
    "\n",
    "# 5/5\n",
    "# Count the number of unique countries in the films table.\n",
    "\"\"\"\n",
    "SELECT COUNT(DISTINCT country)\n",
    "FROM films; \n",
    "\"\"\"\n",
    "# 64\n",
    "\n",
    "\n"
   ]
  },
  {
   "cell_type": "markdown",
   "id": "a4232ca9",
   "metadata": {},
   "source": [
    "#### Filtering Results \n"
   ]
  },
  {
   "cell_type": "code",
   "execution_count": null,
   "id": "795b5cf7",
   "metadata": {},
   "outputs": [],
   "source": [
    "#  WHERE keyword allows you to filter based on both text and numeric values in a table\n",
    "\"\"\"\n",
    "comparison operators:\n",
    "= equal\n",
    "<> not equal\n",
    "< less than\n",
    "> greater than\n",
    "<= less than or equal to\n",
    ">= greater than or equal to\n",
    "\"\"\"\n",
    "\n",
    "# you can filter text records such as title\n",
    "\n",
    "# code returns all films with the title 'Metropolis':\n",
    "\"\"\"\n",
    "SELECT title\n",
    "FROM films\n",
    "WHERE title = 'Metropolis';\n",
    "\"\"\"\n",
    "# WHERE comes after FROM\n",
    "\n",
    "# SQL standard <> (course), !=; not equal \n",
    "\n",
    "# What does the following query return?\n",
    "\"\"\"\n",
    "SELECT title \n",
    "FROM films\n",
    "WHERE release_year > 2000;\n",
    "\"\"\"\n",
    "# thought process:\n",
    "# release_year greater than 2000 \n",
    "# greater than 2001, ...\n",
    "# after \n",
    "# release_year after 2000\n",
    "\n",
    "# answer\n",
    "# films released after the year 2000\n"
   ]
  },
  {
   "cell_type": "markdown",
   "id": "34fdfaed",
   "metadata": {},
   "source": [
    "#### Simple filtering of numeric values"
   ]
  },
  {
   "cell_type": "code",
   "execution_count": null,
   "id": "35311101",
   "metadata": {},
   "outputs": [],
   "source": [
    "# recap\n",
    "# WHERE clause can also be used to filter numeric records, such as years or ages.\n",
    "\n",
    "# query selects all details for films with a budget over ten thousand dollars:\n",
    "\"\"\"\n",
    "SELECT *\n",
    "FROM films\n",
    "WHERE budget > 10000;\n",
    "\"\"\"\n",
    "# There are 108 film titles with a budget greater than $10,000\n",
    "\n",
    "# use WHERE clause to filter numeric values\n",
    "\n",
    "# films: id | title | release_year | country | duration | language | certification | gross | budget\n",
    "\n",
    "# 1/3\n",
    "# Get all details for all films released in 2016.\n",
    "\"\"\"\n",
    "SELECT * \n",
    "FROM films\n",
    "WHERE release_year = 2016;\n",
    "\"\"\"\n",
    "# There are 4,920 films released in 2016.\n",
    "\n",
    "# 2/3\n",
    "# Get the number of films released before 2000.\n",
    "\n",
    "# thought process:\n",
    "# before 2000\n",
    "# less than \n",
    "# x < 2000\n",
    "\n",
    "\"\"\"\n",
    "SELECT COUNT(*)\n",
    "FROM films\n",
    "WHERE release_year < 2000;\n",
    "\"\"\"\n",
    "# There are 1,337 films released before the year 2000.\n",
    "\n",
    "# 3/3\n",
    "# Get the title and release year of films released after 2000.\n",
    "\"\"\"\n",
    "SELECT title, release_year\n",
    "FROM films\n",
    "WHERE release_year > 2000;\n",
    "\"\"\"\n"
   ]
  },
  {
   "cell_type": "markdown",
   "id": "03874a36",
   "metadata": {},
   "source": [
    "#### Simple filtering of text"
   ]
  },
  {
   "cell_type": "code",
   "execution_count": null,
   "id": "8b21d6e2",
   "metadata": {},
   "outputs": [],
   "source": [
    "# WHERE clause can also be used to filter text results, such as names or countries.\n",
    "\n",
    "# this query gets the titles of all films which were filmed in China:\n",
    "\"\"\"\n",
    "SELECT title\n",
    "FROM films \n",
    "WHERE country = 'China';\n",
    "\"\"\"\n",
    "\n",
    "# WHERE with text values\n",
    "\n",
    "# Important: in PostgreSQL (the version of SQL we're using), you must use single quotes with WHERE.\n",
    "\n",
    "# 1/4\n",
    "# Get all details for all French language films.\n",
    "\"\"\"\n",
    "SELECT *\n",
    "FROM films \n",
    "WHERE language = 'French';\n",
    "\"\"\"\n",
    "\n",
    "# 2/4\n",
    "# Get the name and birth date of the person born on November 11th, 1974. Remember to use ISO date format ('1974-11-11')!\n",
    "\"\"\"\n",
    "SELECT name, birthdate\n",
    "FROM people \n",
    "WHERE birthdate = '1974-11-11';\n",
    "\"\"\"\n",
    "# Leonardo DiCaprio\n",
    "\n",
    "# 3/4\n",
    "# Get the number of Hindi language films.\n",
    "\"\"\"\n",
    "SELECT COUNT(*)\n",
    "FROM films \n",
    "WHERE language = 'Hindi';\n",
    "\"\"\"\n",
    "# There are 28 films in the Hindi language.\n",
    "\n",
    "# Thought process:\n",
    "# number -> COUNT\n",
    "# SELECT COUNT(*)\n",
    "# FROM films\n",
    "# WHERE language = 'Hindi';\n",
    "\n",
    "# 4/4\n",
    "# Get all details for all films with an R certification.\n",
    "\"\"\"\n",
    "SELECT *\n",
    "FROM films\n",
    "WHERE certification = 'R';\n",
    "\"\"\"\n",
    "# There are 2118 films with an 'R' certification \n",
    "\n",
    "# thought process:\n",
    "# all details -> *\n",
    "# SELECT *\n",
    "# FROM films \n",
    "# WHERE certification = 'R';\n"
   ]
  }
 ],
 "metadata": {
  "kernelspec": {
   "display_name": "Python 3 (ipykernel)",
   "language": "python",
   "name": "python3"
  },
  "language_info": {
   "codemirror_mode": {
    "name": "ipython",
    "version": 3
   },
   "file_extension": ".py",
   "mimetype": "text/x-python",
   "name": "python",
   "nbconvert_exporter": "python",
   "pygments_lexer": "ipython3",
   "version": "3.9.7"
  }
 },
 "nbformat": 4,
 "nbformat_minor": 5
}
