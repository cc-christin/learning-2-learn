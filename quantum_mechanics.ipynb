{
 "cells": [
  {
   "cell_type": "code",
   "execution_count": 1,
   "id": "594c3372",
   "metadata": {},
   "outputs": [],
   "source": [
    "# Import Dependencies\n",
    "import pandas as pd\n",
    "import numpy as np\n",
    "import matplotlib.pyplot as plt"
   ]
  },
  {
   "cell_type": "code",
   "execution_count": 2,
   "id": "1f8ffa56",
   "metadata": {},
   "outputs": [
    {
     "data": {
      "text/html": [
       "<div>\n",
       "<style scoped>\n",
       "    .dataframe tbody tr th:only-of-type {\n",
       "        vertical-align: middle;\n",
       "    }\n",
       "\n",
       "    .dataframe tbody tr th {\n",
       "        vertical-align: top;\n",
       "    }\n",
       "\n",
       "    .dataframe thead th {\n",
       "        text-align: right;\n",
       "    }\n",
       "</style>\n",
       "<table border=\"1\" class=\"dataframe\">\n",
       "  <thead>\n",
       "    <tr style=\"text-align: right;\">\n",
       "      <th></th>\n",
       "      <th>0</th>\n",
       "    </tr>\n",
       "  </thead>\n",
       "  <tbody>\n",
       "    <tr>\n",
       "      <th>0</th>\n",
       "      <td>QM description of the hydrogen atom</td>\n",
       "    </tr>\n",
       "    <tr>\n",
       "      <th>1</th>\n",
       "      <td>Hamiltonian and Schrodinger equation for the h...</td>\n",
       "    </tr>\n",
       "    <tr>\n",
       "      <th>2</th>\n",
       "      <td>The Born-Oppenheimer approximation</td>\n",
       "    </tr>\n",
       "    <tr>\n",
       "      <th>3</th>\n",
       "      <td>Solution to the Schrodinger equation: atomic o...</td>\n",
       "    </tr>\n",
       "    <tr>\n",
       "      <th>4</th>\n",
       "      <td>Quantum numbers n, l, m and their physical int...</td>\n",
       "    </tr>\n",
       "    <tr>\n",
       "      <th>5</th>\n",
       "      <td>Radial distribution functions</td>\n",
       "    </tr>\n",
       "    <tr>\n",
       "      <th>6</th>\n",
       "      <td>Shapes and symmetries of the atomic orbitals</td>\n",
       "    </tr>\n",
       "    <tr>\n",
       "      <th>7</th>\n",
       "      <td>Radial and angular nodes of the atomic orbitals</td>\n",
       "    </tr>\n",
       "  </tbody>\n",
       "</table>\n",
       "</div>"
      ],
      "text/plain": [
       "                                                   0\n",
       "0                QM description of the hydrogen atom\n",
       "1  Hamiltonian and Schrodinger equation for the h...\n",
       "2                 The Born-Oppenheimer approximation\n",
       "3  Solution to the Schrodinger equation: atomic o...\n",
       "4  Quantum numbers n, l, m and their physical int...\n",
       "5                      Radial distribution functions\n",
       "6       Shapes and symmetries of the atomic orbitals\n",
       "7    Radial and angular nodes of the atomic orbitals"
      ]
     },
     "execution_count": 2,
     "metadata": {},
     "output_type": "execute_result"
    }
   ],
   "source": [
    "# Quantum Mechanics\n",
    "\n",
    "# Lecture 16 covers the following topics:\n",
    "\n",
    "L16_Topics = [\"QM description of the hydrogen atom\", \n",
    "\"Hamiltonian and Schrodinger equation for the hydrogen atom\",\n",
    "\"The Born-Oppenheimer approximation\",\n",
    "\"Solution to the Schrodinger equation: atomic orbitals\",\n",
    "\"Quantum numbers n, l, m and their physical interpretation\",\n",
    "\"Radial distribution functions\",\n",
    "\"Shapes and symmetries of the atomic orbitals\",\n",
    "\"Radial and angular nodes of the atomic orbitals\"]\n",
    "\n",
    "L16_df = pd.DataFrame(L16_Topics)\n",
    "L16_df"
   ]
  },
  {
   "cell_type": "code",
   "execution_count": 3,
   "id": "9cd76abc",
   "metadata": {},
   "outputs": [],
   "source": [
    "L16_df = L16_df.rename(columns={L16_df.columns[0]: \"Lecture 16 Topics\"})"
   ]
  },
  {
   "cell_type": "code",
   "execution_count": 4,
   "id": "495449ed",
   "metadata": {},
   "outputs": [
    {
     "data": {
      "text/html": [
       "<div>\n",
       "<style scoped>\n",
       "    .dataframe tbody tr th:only-of-type {\n",
       "        vertical-align: middle;\n",
       "    }\n",
       "\n",
       "    .dataframe tbody tr th {\n",
       "        vertical-align: top;\n",
       "    }\n",
       "\n",
       "    .dataframe thead th {\n",
       "        text-align: right;\n",
       "    }\n",
       "</style>\n",
       "<table border=\"1\" class=\"dataframe\">\n",
       "  <thead>\n",
       "    <tr style=\"text-align: right;\">\n",
       "      <th></th>\n",
       "      <th>Lecture 16 Topics</th>\n",
       "    </tr>\n",
       "  </thead>\n",
       "  <tbody>\n",
       "    <tr>\n",
       "      <th>0</th>\n",
       "      <td>QM description of the hydrogen atom</td>\n",
       "    </tr>\n",
       "    <tr>\n",
       "      <th>1</th>\n",
       "      <td>Hamiltonian and Schrodinger equation for the h...</td>\n",
       "    </tr>\n",
       "    <tr>\n",
       "      <th>2</th>\n",
       "      <td>The Born-Oppenheimer approximation</td>\n",
       "    </tr>\n",
       "    <tr>\n",
       "      <th>3</th>\n",
       "      <td>Solution to the Schrodinger equation: atomic o...</td>\n",
       "    </tr>\n",
       "    <tr>\n",
       "      <th>4</th>\n",
       "      <td>Quantum numbers n, l, m and their physical int...</td>\n",
       "    </tr>\n",
       "    <tr>\n",
       "      <th>5</th>\n",
       "      <td>Radial distribution functions</td>\n",
       "    </tr>\n",
       "    <tr>\n",
       "      <th>6</th>\n",
       "      <td>Shapes and symmetries of the atomic orbitals</td>\n",
       "    </tr>\n",
       "    <tr>\n",
       "      <th>7</th>\n",
       "      <td>Radial and angular nodes of the atomic orbitals</td>\n",
       "    </tr>\n",
       "  </tbody>\n",
       "</table>\n",
       "</div>"
      ],
      "text/plain": [
       "                                   Lecture 16 Topics\n",
       "0                QM description of the hydrogen atom\n",
       "1  Hamiltonian and Schrodinger equation for the h...\n",
       "2                 The Born-Oppenheimer approximation\n",
       "3  Solution to the Schrodinger equation: atomic o...\n",
       "4  Quantum numbers n, l, m and their physical int...\n",
       "5                      Radial distribution functions\n",
       "6       Shapes and symmetries of the atomic orbitals\n",
       "7    Radial and angular nodes of the atomic orbitals"
      ]
     },
     "execution_count": 4,
     "metadata": {},
     "output_type": "execute_result"
    }
   ],
   "source": [
    "# Lecture 16 Topics\n",
    "L16_df"
   ]
  },
  {
   "cell_type": "code",
   "execution_count": 7,
   "id": "72b5c491",
   "metadata": {},
   "outputs": [],
   "source": [
    "# Quantum Mechanical Description of the Hydrogen Atom\n",
    "\n",
    "L16_p1 =[\"- Hydrogen atom - simplest naturally occuring atom, study model\",\n",
    "\"- Hydrogen atom - single (-) charged electron (e-) moves around (+) charged proton (H+)\",\n",
    "\"- Hydrogen atom is a real physical system, can be treated exactly by QM\",\n",
    "\"- Solutions for hydrogen atoms suggest prototypes for atomic orbitals in more complex atoms/molecules\"]\n",
    "\n",
    "\n"
   ]
  },
  {
   "cell_type": "code",
   "execution_count": 8,
   "id": "1da183ef",
   "metadata": {},
   "outputs": [],
   "source": [
    "L16_p1_df = pd.DataFrame(L16_p1)"
   ]
  },
  {
   "cell_type": "code",
   "execution_count": 9,
   "id": "81d13363",
   "metadata": {},
   "outputs": [],
   "source": [
    "L16_p1_df =L16_p1_df.rename(columns={L16_p1_df.columns[0]: \"Quantum Mechanical Description of the Hydrogen Atom\"})"
   ]
  },
  {
   "cell_type": "code",
   "execution_count": 11,
   "id": "4c08c648",
   "metadata": {},
   "outputs": [
    {
     "data": {
      "text/html": [
       "<div>\n",
       "<style scoped>\n",
       "    .dataframe tbody tr th:only-of-type {\n",
       "        vertical-align: middle;\n",
       "    }\n",
       "\n",
       "    .dataframe tbody tr th {\n",
       "        vertical-align: top;\n",
       "    }\n",
       "\n",
       "    .dataframe thead th {\n",
       "        text-align: right;\n",
       "    }\n",
       "</style>\n",
       "<table border=\"1\" class=\"dataframe\">\n",
       "  <thead>\n",
       "    <tr style=\"text-align: right;\">\n",
       "      <th></th>\n",
       "      <th>Quantum Mechanical Description of the Hydrogen Atom</th>\n",
       "    </tr>\n",
       "  </thead>\n",
       "  <tbody>\n",
       "    <tr>\n",
       "      <th>0</th>\n",
       "      <td>- Hydrogen atom - simplest naturally occuring ...</td>\n",
       "    </tr>\n",
       "    <tr>\n",
       "      <th>1</th>\n",
       "      <td>- Hydrogen atom - single (-) charged electron ...</td>\n",
       "    </tr>\n",
       "    <tr>\n",
       "      <th>2</th>\n",
       "      <td>- Hydrogen atom is a real physical system, can...</td>\n",
       "    </tr>\n",
       "    <tr>\n",
       "      <th>3</th>\n",
       "      <td>- Solutions for hydrogen atoms suggest prototy...</td>\n",
       "    </tr>\n",
       "  </tbody>\n",
       "</table>\n",
       "</div>"
      ],
      "text/plain": [
       "  Quantum Mechanical Description of the Hydrogen Atom\n",
       "0  - Hydrogen atom - simplest naturally occuring ... \n",
       "1  - Hydrogen atom - single (-) charged electron ... \n",
       "2  - Hydrogen atom is a real physical system, can... \n",
       "3  - Solutions for hydrogen atoms suggest prototy... "
      ]
     },
     "execution_count": 11,
     "metadata": {},
     "output_type": "execute_result"
    }
   ],
   "source": [
    "# Quantum Mechanical Description of the Hydrogen Atom Notes\n",
    "L16_p1_df"
   ]
  },
  {
   "cell_type": "code",
   "execution_count": 18,
   "id": "b6354c13",
   "metadata": {},
   "outputs": [],
   "source": [
    "# Goals of L16\n",
    "# Goals: How do we used QM?\n",
    "\n",
    "L16_p1b = [\"Describe the hydrogen atom in terms of wave functions, probability densities, energy diagram, and orbital angular momentum\",\n",
    "           \"Identify the physical significance of each of the H.A. quantum numbers (n, l, m)\",\n",
    "           \"Distinguish between the Bohr and Schrödinger models of the atom\",\n",
    "           \"Define the concept of atomic orbitals and describe A.O. properties\"]\n",
    "\n",
    "L16_p1b_df = pd.DataFrame(L16_p1b)\n"
   ]
  },
  {
   "cell_type": "code",
   "execution_count": 19,
   "id": "1b51927a",
   "metadata": {},
   "outputs": [],
   "source": [
    "L16_p1b_df = L16_p1b_df.rename(columns={L16_p1b_df.columns[0]: \"Goals: How do we used QM?\"})"
   ]
  },
  {
   "cell_type": "code",
   "execution_count": 20,
   "id": "912af784",
   "metadata": {},
   "outputs": [
    {
     "data": {
      "text/html": [
       "<div>\n",
       "<style scoped>\n",
       "    .dataframe tbody tr th:only-of-type {\n",
       "        vertical-align: middle;\n",
       "    }\n",
       "\n",
       "    .dataframe tbody tr th {\n",
       "        vertical-align: top;\n",
       "    }\n",
       "\n",
       "    .dataframe thead th {\n",
       "        text-align: right;\n",
       "    }\n",
       "</style>\n",
       "<table border=\"1\" class=\"dataframe\">\n",
       "  <thead>\n",
       "    <tr style=\"text-align: right;\">\n",
       "      <th></th>\n",
       "      <th>Goals: How do we used QM?</th>\n",
       "    </tr>\n",
       "  </thead>\n",
       "  <tbody>\n",
       "    <tr>\n",
       "      <th>0</th>\n",
       "      <td>Describe the hydrogen atom in terms of wave fu...</td>\n",
       "    </tr>\n",
       "    <tr>\n",
       "      <th>1</th>\n",
       "      <td>Identify the physical significance of each of ...</td>\n",
       "    </tr>\n",
       "    <tr>\n",
       "      <th>2</th>\n",
       "      <td>Distinguish between the Bohr and Schrödinger ...</td>\n",
       "    </tr>\n",
       "    <tr>\n",
       "      <th>3</th>\n",
       "      <td>Define the concept of atomic orbitals and desc...</td>\n",
       "    </tr>\n",
       "  </tbody>\n",
       "</table>\n",
       "</div>"
      ],
      "text/plain": [
       "                           Goals: How do we used QM?\n",
       "0  Describe the hydrogen atom in terms of wave fu...\n",
       "1  Identify the physical significance of each of ...\n",
       "2  Distinguish between the Bohr and Schrödinger ...\n",
       "3  Define the concept of atomic orbitals and desc..."
      ]
     },
     "execution_count": 20,
     "metadata": {},
     "output_type": "execute_result"
    }
   ],
   "source": [
    "L16_p1b_df "
   ]
  },
  {
   "cell_type": "code",
   "execution_count": null,
   "id": "0955e4e6",
   "metadata": {},
   "outputs": [],
   "source": [
    "bmha = [\"The Bohr model postulated the existence of stable, non-radiating orbits for the electron.\"]\n"
   ]
  }
 ],
 "metadata": {
  "kernelspec": {
   "display_name": "Python 3 (ipykernel)",
   "language": "python",
   "name": "python3"
  },
  "language_info": {
   "codemirror_mode": {
    "name": "ipython",
    "version": 3
   },
   "file_extension": ".py",
   "mimetype": "text/x-python",
   "name": "python",
   "nbconvert_exporter": "python",
   "pygments_lexer": "ipython3",
   "version": "3.9.7"
  }
 },
 "nbformat": 4,
 "nbformat_minor": 5
}
