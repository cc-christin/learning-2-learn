{
 "cells": [
  {
   "cell_type": "markdown",
   "id": "24a41468",
   "metadata": {},
   "source": [
    "# Reproduction of table 1 - Description of Features in the Output of an Electrocardiogram (ECG) from Padsalgikar (2017)\n"
   ]
  },
  {
   "cell_type": "markdown",
   "id": "7b5dc7df",
   "metadata": {},
   "source": [
    "#### Plastics in Medical Devices for Cardiovascular Applications. http://dx.doi.org/10.1016/B978-0-323-35885-9.00005-9"
   ]
  },
  {
   "cell_type": "code",
   "execution_count": null,
   "id": "3ab6e435",
   "metadata": {},
   "outputs": [],
   "source": []
  }
 ],
 "metadata": {
  "kernelspec": {
   "display_name": "Python 3 (ipykernel)",
   "language": "python",
   "name": "python3"
  },
  "language_info": {
   "codemirror_mode": {
    "name": "ipython",
    "version": 3
   },
   "file_extension": ".py",
   "mimetype": "text/x-python",
   "name": "python",
   "nbconvert_exporter": "python",
   "pygments_lexer": "ipython3",
   "version": "3.9.7"
  }
 },
 "nbformat": 4,
 "nbformat_minor": 5
}
