{
 "cells": [
  {
   "cell_type": "markdown",
   "id": "24a41468",
   "metadata": {},
   "source": [
    "# Reproduction of table 1 - Description of Features in the Output of an Electrocardiogram (ECG) from Padsalgikar (2017)\n"
   ]
  },
  {
   "cell_type": "markdown",
   "id": "7b5dc7df",
   "metadata": {},
   "source": [
    "#### Plastics in Medical Devices for Cardiovascular Applications. http://dx.doi.org/10.1016/B978-0-323-35885-9.00005-9"
   ]
  },
  {
   "cell_type": "code",
   "execution_count": 2,
   "id": "00f4202f",
   "metadata": {},
   "outputs": [],
   "source": [
    "# import dependencies\n",
    "import pandas as pd\n",
    "import numpy as np\n",
    "import matplotlib.pyplot as plt"
   ]
  },
  {
   "cell_type": "code",
   "execution_count": 3,
   "id": "3ab6e435",
   "metadata": {},
   "outputs": [],
   "source": [
    "# Reproduction of table 1 to better understand Electrocardiogram (ECG) for Report 2\n",
    "# Feature Column\n",
    "feature = [\"RR interval\", \"P wave\", \"PR interval\", \"PR segment\", \"QRS complex\", \"J point\", \"ST segment\", \"T wave\", \"ST interval\", \"QT interval\"]\n",
    "\n",
    "# Description and Duration Columns\n",
    "\n",
    "# RR_interval_description\n",
    "rr_interval_description = [\"Interval b/w two R waves; normal resting heat rate b/w 60 and 100 bpm\"]\n",
    "# RR_duration\n",
    "rr_interval_duration = [\"0.6-1.2 s\"]\n",
    "\n",
    "# P_wave_description\n",
    "p_wave_description = [\"During normal atrial depolarization, main electrical vector is directed from SA node thoward AV node; spreads from right atrium to left atrium. Corresponds to P wave on ECG.\"]\n",
    "# P_wave_duration -> 80 milliseconds  \n",
    "p_wave_duration = [\"80 ms\"]\n",
    "\n",
    "# PR_interval_description\n",
    "pr_interval_description = [\"PR interval is measured from beginning of P wave to beginning of QRS complex; PR interval reflex time electrical impluse takes to travel from sinus noode through AV node, entering ventricles; PR intervals is a good estimate of AV node function\"]\n",
    "# pr_interval_duration\n",
    "pr_interval_duration = [\"120-200 ms\"]\n",
    "\n"
   ]
  },
  {
   "cell_type": "code",
   "execution_count": null,
   "id": "afa1535b",
   "metadata": {},
   "outputs": [],
   "source": []
  }
 ],
 "metadata": {
  "kernelspec": {
   "display_name": "Python 3 (ipykernel)",
   "language": "python",
   "name": "python3"
  },
  "language_info": {
   "codemirror_mode": {
    "name": "ipython",
    "version": 3
   },
   "file_extension": ".py",
   "mimetype": "text/x-python",
   "name": "python",
   "nbconvert_exporter": "python",
   "pygments_lexer": "ipython3",
   "version": "3.9.7"
  }
 },
 "nbformat": 4,
 "nbformat_minor": 5
}
